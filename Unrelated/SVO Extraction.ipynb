{
 "cells": [
  {
   "cell_type": "code",
   "execution_count": 1,
   "metadata": {
    "collapsed": true
   },
   "outputs": [],
   "source": [
    "import requests\n",
    "from bs4 import BeautifulSoup\n",
    "import pandas as pd\n",
    "import numpy as np\n",
    "import nltk\n",
    "from nltk.tag import pos_tag"
   ]
  },
  {
   "cell_type": "code",
   "execution_count": 2,
   "metadata": {
    "collapsed": true
   },
   "outputs": [],
   "source": [
    "url = 'https://www.nytimes.com/2017/02/21/us/politics/transgender-students-trump-obama.html?ref=politics&_r=0'"
   ]
  },
  {
   "cell_type": "code",
   "execution_count": 3,
   "metadata": {
    "collapsed": true
   },
   "outputs": [],
   "source": [
    "resp = requests.get(url)\n",
    "soup = BeautifulSoup(resp.content, 'lxml')\n",
    "    \n",
    "body = soup.find('article', {'id' : 'story'}).find_all('p', {'class' : 'story-body-text story-content'})"
   ]
  },
  {
   "cell_type": "code",
   "execution_count": 4,
   "metadata": {
    "collapsed": true
   },
   "outputs": [],
   "source": [
    "body = soup.find('article', {'id' : 'story'})"
   ]
  },
  {
   "cell_type": "code",
   "execution_count": 6,
   "metadata": {
    "collapsed": false
   },
   "outputs": [
    {
     "data": {
      "text/plain": [
       "[<a href=\"https://www.nytimes.com/pages/politics/index.html\">Politics</a>,\n",
       " <a href=\"https://www.nytimes.com/by/eric-lichtblau\" title=\"More Articles by ERIC LICHTBLAU\"><span class=\"byline-author\" data-byline-name=\"ERIC LICHTBLAU\" data-twitter-handle=\"EricLichtblau\" itemprop=\"name\">ERIC LICHTBLAU</span></a>,\n",
       " <a class=\"visually-hidden skip-to-text-link\" href=\"#story-continues-1\">Continue reading the main story</a>,\n",
       " <a class=\"visually-hidden skip-to-text-link\" href=\"#story-continues-1\">Continue reading the main story</a>,\n",
       " <a class=\"visually-hidden skip-to-text-link\" href=\"#story-continues-1\">Continue reading the main story</a>,\n",
       " <a class=\"visually-hidden skip-to-text-link\" href=\"#story-continues-2\">Continue reading the main story</a>,\n",
       " <a class=\"visually-hidden skip-to-text-link\" href=\"#story-continues-3\">Continue reading the main story</a>,\n",
       " <a href=\"/newsletters\" target=\"_blank\">View all New York Times newsletters.</a>,\n",
       " <a href=\"http://www.nytimes.com/newsletters/sample/morning-briefing?pgtype=subscriptionspage&amp;version=new&amp;contentId=NN&amp;eventName=sample&amp;module=newsletter-sign-up\" target=\"_blank\">See Sample</a>,\n",
       " <a href=\"/mem/email.html\" target=\"_blank\">Manage Email Preferences</a>,\n",
       " <a href=\"/logout\" target=\"_blank\">Not you?</a>,\n",
       " <a href=\"/privacy\" target=\"_blank\">Privacy Policy</a>,\n",
       " <a class=\"visually-hidden skip-to-text-link\" href=\"#story-continues-4\">Continue reading the main story</a>,\n",
       " <a class=\"visually-hidden skip-to-text-link\" href=\"#story-continues-5\">Continue reading the main story</a>,\n",
       " <a href=\"https://www.facebook.com/nytpolitics\">Facebook</a>,\n",
       " <a href=\"https://twitter.com/nytpolitics\">Twitter</a>,\n",
       " <a href=\"http://www.nytimes.com/newsletters/morning-briefing\">the Morning Briefing newsletter</a>,\n",
       " <a href=\"http://www.nytreprints.com/\" target=\"_blank\">Order Reprints</a>,\n",
       " <a href=\"http://www.nytimes.com/pages/todayspaper/index.html\" target=\"_blank\">Today's Paper</a>,\n",
       " <a href=\"http://www.nytimes.com/subscriptions/Multiproduct/lp839RF.html?campaignId=48JQY\" target=\"_blank\">Subscribe</a>,\n",
       " <a class=\"visually-hidden skip-to-text-link\" href=\"#whats-next\">Continue reading the main story</a>,\n",
       " <a class=\"feedback-link\" href=\"https://docs.google.com/forms/d/e/1FAIpQLSfLW30xgZodF1qRAg80oWEGuDpW-1HHaL0g42G3SmvB2f4lCw/viewform?entry.8537735=https://www.nytimes.com/2017/02/21/us/politics/transgender-students-trump-obama.html\" target=\"_blank\">\n",
       " <p class=\"feedback-message\">We’re interested in your feedback on this page. <strong>Tell us what you think.</strong></p>\n",
       " </a>,\n",
       " <a href=\"https://www.nytimes.com/news-event/donald-trump-white-house\">The Trump White House</a>,\n",
       " <a class=\"story-link\" href=\"https://www.nytimes.com/2017/02/25/us/politics/hr-mcmaster-trump.html?rref=collection%2Fnewseventcollection%2FThe Trump White House\">\n",
       " <h2 class=\"headline\">\n",
       " <span class=\"headline-text\">\n",
       "                                 Will Trump Take 'Brutally Forthright’ Advice From McMaster?            </span>\n",
       " <time class=\"dateline\">FEB 25</time>\n",
       " </h2>\n",
       " </a>,\n",
       " <a class=\"story-link\" href=\"https://www.nytimes.com/2017/02/25/us/politics/trump-press-conflict.html?rref=collection%2Fnewseventcollection%2FThe Trump White House\">\n",
       " <h2 class=\"headline\">\n",
       " <span class=\"headline-text\">\n",
       " <i class=\"icon sprite-icon video-icon\"></i>\n",
       "                                 Trump Ruled the Tabloid Media. Washington Is a Different Story.            </span>\n",
       " <time class=\"dateline\">FEB 25</time>\n",
       " </h2>\n",
       " </a>,\n",
       " <a class=\"story-link\" href=\"https://www.nytimes.com/2017/02/24/us/politics/hr-mcmaster-trump-islam.html?rref=collection%2Fnewseventcollection%2FThe Trump White House\">\n",
       " <h2 class=\"headline\">\n",
       " <span class=\"headline-text\">\n",
       "                                 H.R. McMaster Breaks With Administration on Views of Islam            </span>\n",
       " <time class=\"dateline\">FEB 24</time>\n",
       " </h2>\n",
       " </a>,\n",
       " <a class=\"story-link\" href=\"https://www.nytimes.com/2017/02/24/nyregion/travel-ban-trump-detained.html?rref=collection%2Fnewseventcollection%2FThe Trump White House\">\n",
       " <h2 class=\"headline\">\n",
       " <span class=\"headline-text\">\n",
       "                                 U.S. List of Those Detained for Trump’s Travel Ban Is Called Incomplete            </span>\n",
       " <time class=\"dateline\">FEB 24</time>\n",
       " </h2>\n",
       " </a>,\n",
       " <a class=\"story-link\" href=\"https://www.nytimes.com/2017/02/24/us/politics/white-house-sean-spicer-briefing.html?rref=collection%2Fnewseventcollection%2FThe Trump White House\">\n",
       " <h2 class=\"headline\">\n",
       " <span class=\"headline-text\">\n",
       "                                 Trump Intensifies His Attacks on Journalists and Condemns F.B.I. ‘Leakers’            </span>\n",
       " <time class=\"dateline\">FEB 24</time>\n",
       " </h2>\n",
       " </a>,\n",
       " <a href=\"https://www.nytimes.com/news-event/donald-trump-white-house\">See More »</a>]"
      ]
     },
     "execution_count": 6,
     "metadata": {},
     "output_type": "execute_result"
    }
   ],
   "source": [
    "body.find_all('a')"
   ]
  },
  {
   "cell_type": "code",
   "execution_count": null,
   "metadata": {
    "collapsed": true
   },
   "outputs": [],
   "source": []
  }
 ],
 "metadata": {
  "kernelspec": {
   "display_name": "Python 3",
   "language": "python",
   "name": "python3"
  },
  "language_info": {
   "codemirror_mode": {
    "name": "ipython",
    "version": 3
   },
   "file_extension": ".py",
   "mimetype": "text/x-python",
   "name": "python",
   "nbconvert_exporter": "python",
   "pygments_lexer": "ipython3",
   "version": "3.5.2"
  }
 },
 "nbformat": 4,
 "nbformat_minor": 1
}
