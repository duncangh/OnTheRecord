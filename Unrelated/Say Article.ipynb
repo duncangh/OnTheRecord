{
 "cells": [
  {
   "cell_type": "code",
   "execution_count": 1,
   "metadata": {
    "collapsed": true
   },
   "outputs": [],
   "source": [
    "import requests\n",
    "from bs4 import BeautifulSoup"
   ]
  },
  {
   "cell_type": "code",
   "execution_count": 2,
   "metadata": {
    "collapsed": true
   },
   "outputs": [],
   "source": [
    "url = 'http://www.newyorker.com/news/daily-comment/trying-and-failing-not-to-fear-so-much-about-trump?intcid=popular'\n",
    "def new_yorker(url):\n",
    "    \n",
    "    resp = requests.get(url=url)\n",
    "    soup = BeautifulSoup(resp.content, 'lxml')\n",
    "\n",
    "    body = soup.find('div', {'id' : 'articleBody'})\n",
    "    text = ''\n",
    "\n",
    "    for p in body.find_all('p'):\n",
    "        text+=p.text \n",
    "    write_file = open('Article.txt', 'w').write(text)\n",
    "new_yorker(url)"
   ]
  },
  {
   "cell_type": "code",
   "execution_count": 3,
   "metadata": {
    "collapsed": false
   },
   "outputs": [],
   "source": []
  },
  {
   "cell_type": "code",
   "execution_count": 9,
   "metadata": {
    "collapsed": false
   },
   "outputs": [],
   "source": []
  },
  {
   "cell_type": "code",
   "execution_count": 10,
   "metadata": {
    "collapsed": false
   },
   "outputs": [],
   "source": [
    "# !say -v Alex -f Article.txt\n",
    "!say -v Alex -r 280 -f Article.txt"
   ]
  },
  {
   "cell_type": "code",
   "execution_count": null,
   "metadata": {
    "collapsed": true
   },
   "outputs": [],
   "source": [
    "# say -v Karen -r 250 -f /Users/Tanous/Desktop/test.txt"
   ]
  }
 ],
 "metadata": {
  "kernelspec": {
   "display_name": "Python 3",
   "language": "python",
   "name": "python3"
  },
  "language_info": {
   "codemirror_mode": {
    "name": "ipython",
    "version": 3
   },
   "file_extension": ".py",
   "mimetype": "text/x-python",
   "name": "python",
   "nbconvert_exporter": "python",
   "pygments_lexer": "ipython3",
   "version": "3.5.2"
  }
 },
 "nbformat": 4,
 "nbformat_minor": 1
}
