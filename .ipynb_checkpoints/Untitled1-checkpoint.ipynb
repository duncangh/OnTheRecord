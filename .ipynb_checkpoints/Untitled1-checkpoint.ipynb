{
 "cells": [
  {
   "cell_type": "code",
   "execution_count": 161,
   "metadata": {
    "collapsed": true
   },
   "outputs": [],
   "source": [
    "import requests\n",
    "from bs4 import BeautifulSoup\n",
    "import pandas as pd\n",
    "import numpy as np\n",
    "import nltk\n",
    "from nltk.tag import pos_tag"
   ]
  },
  {
   "cell_type": "code",
   "execution_count": 3,
   "metadata": {
    "collapsed": true
   },
   "outputs": [],
   "source": [
    "url = 'https://www.nytimes.com/2017/02/20/us/politics/donald-trump-russia.html'"
   ]
  },
  {
   "cell_type": "code",
   "execution_count": 133,
   "metadata": {
    "collapsed": false
   },
   "outputs": [],
   "source": [
    "def new_yorker(url):\n",
    "    \n",
    "    resp = requests.get(url=url)\n",
    "    soup = BeautifulSoup(resp.content, 'lxml')\n",
    "\n",
    "    body = soup.find('div', {'id' : 'articleBody'})\n",
    "    text = ''\n",
    "\n",
    "    for p in body.find_all('p'):\n",
    "        text+=p.text \n",
    "    return text\n",
    "\n",
    "def new_york_times(url):\n",
    "    resp = requests.get(url)\n",
    "    soup = BeautifulSoup(resp.content, 'lxml')\n",
    "    \n",
    "#     body = soup.find('article', {'id' : 'story'}).find_all('p')\n",
    "    body = soup.find('article', {'id' : 'story'}).find_all('p', {'class' : 'story-body-text story-content'})\n",
    "    text = ''''''\n",
    "    quotes = []\n",
    "    \n",
    "    for paragraph in body[1:]:\n",
    "        paragraph_text = paragraph.text.replace('“', '\"').replace('”', '\"').replace('.\"', '.\" ')\n",
    "        text += paragraph_text\n",
    "        results = find(paragraph_text)\n",
    "        \n",
    "        if results:\n",
    "            quotes.extend(results)\n",
    "        \n",
    "    \n",
    "    return text, quotes\n",
    "\n",
    "article, quotes = new_york_times(url)"
   ]
  },
  {
   "cell_type": "code",
   "execution_count": 160,
   "metadata": {
    "collapsed": false
   },
   "outputs": [
    {
     "data": {
      "text/plain": [
       "'0,\"\"\"I\"\\n6,\"Russia,\"\"\"\\n11,Thursday.\\n12,\"\"\"To\"\\n21,I\\n25,The\\n33,Russian\\n45,Mr.\\n46,Trump\\n68,At\\n82,American\\n87,Russian\\n107,Nov.\\n111,Sergei\\n112,A.\\n113,\"Ryabkov,\"\\n115,Russian\\n129,Mr.\\n148,Russian\\n150,Mr.\\n151,Ryabkov\\n158,Interfax\\n170,Hope\\n171,\"Hicks,\"\\n175,Mr.\\n176,Trump\\n183,White\\n184,House\\n191,\"Washington,\"\\n192,Sergey\\n193,I.\\n194,\"Kislyak,\"\\n196,The\\n197,Washington\\n198,Post\\n208,Michael\\n209,T.\\n210,\"Flynn,\"\\n216,Mr.\\n217,Trump\\n237,The\\n238,Post\\n240,Mr.\\n241,Kislyak\\n253,Trump\\n290,Sarah\\n291,Huckabee\\n292,\"Sanders,\"\\n294,White\\n295,House\\n299,Monday.The\\n300,Russian\\n313,The\\n314,New\\n315,York\\n316,Times\\n325,Trump\\n332,Mr.\\n340,Russian\\n343,Those\\n350,American\\n358,White\\n359,House.On\\n360,\"Thursday,\"\\n361,Mr.\\n362,Trump\\n372,\"Russia.\"\"How\"\\n376,I\\n382,Russia\\n386,I\\n392,\"Russia,\"\"\"\\n397,White\\n398,House\\n411,Mr.\\n412,\"Flynn,\"\\n415,White\\n416,House\\n428,December\\n431,Mr.\\n432,Kislyak\\n441,Obama\\n447,Washington\\n454,Mr.\\n455,Ryabkov\\n457,Mr.\\n458,Kislyak.\\n459,It\\n469,American\\n521,Derek\\n522,\"Chollet,\"\\n528,Obama\\n540,State\\n541,\"Department,\"\\n543,White\\n544,House\\n547,\"Pentagon.Mostly,\"\\n585,The\\n586,Australian\\n587,Embassy\\n595,Trump\\n597,Clinton\\n600,British\\n623,\"Russia,\"\\n633,Michael\\n638,Obama\\n646,United\\n647,States\\n650,\"Russia,\"\\n656,Moscow\\n667,Moscow\\n670,I\\n675,The\\n676,American\\n677,Embassy\\n685,Russian\\n687,But\\n688,\"\"\"I\"\\n694,Obama\\n703,Russian\\n706,U.S.-Russia\\n708,Mr.\\n716,Russian\\n726,Obama\\n'"
      ]
     },
     "execution_count": 160,
     "metadata": {},
     "output_type": "execute_result"
    }
   ],
   "source": [
    "df = words[words.str.istitle()].str.strip()\n",
    "\n"
   ]
  },
  {
   "cell_type": "code",
   "execution_count": 137,
   "metadata": {
    "collapsed": false
   },
   "outputs": [
    {
     "data": {
      "text/plain": [
       "12      True\n",
       "25      True\n",
       "46      True\n",
       "50     False\n",
       "68      True\n",
       "101    False\n",
       "108    False\n",
       "113     True\n",
       "130    False\n",
       "136    False\n",
       "151     True\n",
       "161    False\n",
       "176     True\n",
       "187    False\n",
       "194     True\n",
       "210     True\n",
       "217     True\n",
       "233    False\n",
       "241     True\n",
       "253     True\n",
       "264    False\n",
       "300     True\n",
       "313     True\n",
       "333    False\n",
       "343     True\n",
       "360     True\n",
       "362     True\n",
       "373    False\n",
       "386     True\n",
       "401    False\n",
       "412     True\n",
       "432     True\n",
       "443    False\n",
       "455     True\n",
       "458     True\n",
       "459     True\n",
       "500    False\n",
       "548    False\n",
       "573    False\n",
       "585     True\n",
       "618    False\n",
       "633     True\n",
       "675     True\n",
       "687     True\n",
       "707    False\n",
       "709    False\n",
       "711    False\n",
       "746    False\n",
       "dtype: bool"
      ]
     },
     "execution_count": 137,
     "metadata": {},
     "output_type": "execute_result"
    }
   ],
   "source": [
    "words = pd.Series(article.split(' '))\n",
    "words[words.str.istitle()]\n",
    "sentence_ends = words[words.str.contains('.', regex=False)].index.values + 1\n",
    "words.ix[sentence_ends].str.istitle()\n"
   ]
  },
  {
   "cell_type": "markdown",
   "metadata": {},
   "source": [
    "Find the indexes of all of the periods, consider the following:\n",
    "\n",
    "    1. If the last word before the period is one letter, then it is an ititial\n",
    "    2. If the word after the period is NOT title(), then it is not an actual sentence end"
   ]
  },
  {
   "cell_type": "code",
   "execution_count": null,
   "metadata": {
    "collapsed": true
   },
   "outputs": [],
   "source": []
  },
  {
   "cell_type": "code",
   "execution_count": 97,
   "metadata": {
    "collapsed": false
   },
   "outputs": [
    {
     "data": {
      "text/plain": [
       "162"
      ]
     },
     "execution_count": 97,
     "metadata": {},
     "output_type": "execute_result"
    }
   ],
   "source": []
  },
  {
   "cell_type": "code",
   "execution_count": 115,
   "metadata": {
    "collapsed": true
   },
   "outputs": [
    {
     "data": {
      "text/plain": [
       "[<p class=\"story-body-text story-content\" data-para-count=\"191\" data-total-count=\"191\">WASHINGTON — For months, President Trump and his aides have insisted that they had no contact with Russian officials during the presidential campaign, a denial Mr. Trump repeated last week.</p>,\n",
       " <p class=\"story-body-text story-content\" data-para-count=\"138\" data-total-count=\"329\">“I have nothing to do with Russia,” he <a href=\"https://www.nytimes.com/2017/02/16/us/politics/trump-news-conference.html\">told reporters on Thursday</a>. “To the best of my knowledge, no person that I deal with does.”</p>,\n",
       " <p class=\"story-body-text story-content\" data-para-count=\"154\" data-total-count=\"483\">The denial stands at odds with statements by Russian officials, who have at least twice acknowledged contacts with aides to Mr. Trump before the election.</p>,\n",
       " <p class=\"story-body-text story-content\" data-para-count=\"332\" data-total-count=\"815\">It is not uncommon for a presidential campaign to speak to foreign officials, which makes the dispute particularly unusual. At the same time, any contacts would have taken place during a period when American intelligence agencies believe the Russian government was trying to disrupt the election with a campaign of computer hacking.</p>,\n",
       " <p class=\"story-body-text story-content\" data-para-count=\"236\" data-total-count=\"1051\" id=\"story-continues-1\">The dispute began two days after the Nov. 8 election, when Sergei A. Ryabkov, the Russian deputy foreign minister, <a href=\"https://www.nytimes.com/2016/11/11/world/europe/trump-campaign-russia.html\">said his </a><a href=\"https://www.nytimes.com/2016/11/11/world/europe/trump-campaign-russia.html\"> government had maintain</a><a href=\"https://www.nytimes.com/2016/11/11/world/europe/trump-campaign-russia.html\">ed contacts</a> with members of Mr. Trump’s “immediate entourage” during the campaign.</p>,\n",
       " <p class=\"story-body-text story-content\" data-para-count=\"167\" data-total-count=\"1218\">“I cannot say that all, but a number of them maintained contacts with Russian representatives,” Mr. Ryabkov said during an interview with the Interfax news agency.</p>,\n",
       " <p class=\"story-body-text story-content\" data-para-count=\"146\" data-total-count=\"1364\">Mr. Ryabkov’s comments were met with a swift denial from Hope Hicks, a spokeswoman for Mr. Trump and now a member of the White House press team.</p>,\n",
       " <p class=\"story-body-text story-content\" data-para-count=\"314\" data-total-count=\"1678\">More recently, Russia’s ambassador to Washington, Sergey I. Kislyak, <a href=\"https://www.washingtonpost.com/world/national-security/national-security-adviser-flynn-discussed-sanctions-with-russian-ambassador-despite-denials-officials-say/2017/02/09/f85b29d6-ee11-11e6-b4ff-ac2cf509efe5_story.html?utm_term=.6d89a06606b8\">told The Washington Post</a> that he had communicated frequently during the campaign with Michael T. Flynn, a close campaign adviser to Mr. Trump who became the president’s national security adviser before <a href=\"https://www.nytimes.com/2017/02/13/us/politics/donald-trump-national-security-adviser-michael-flynn.html\">resigning </a><a href=\"https://www.nytimes.com/2017/02/13/us/politics/donald-trump-national-security-adviser-michael-flynn.html\"> from the position</a> last week.</p>,\n",
       " <p class=\"story-body-text story-content\" data-para-count=\"134\" data-total-count=\"1812\">“It’s something all diplomats do,” The Post quoted Mr. Kislyak as saying, though he refused to say what subjects they discussed.</p>,\n",
       " <p class=\"story-body-text story-content\" data-para-count=\"73\" data-total-count=\"1885\">Mr. Trump and his aides denied any contacts occurred during the campaign.<br/></p>,\n",
       " <p class=\"story-body-text story-content\" data-para-count=\"220\" data-total-count=\"2105\">“This is a nonstory because to the best of our knowledge, no contacts took place, so it’s hard to make a comment on something that never happened,” Sarah Huckabee Sanders, a White House spokeswoman, said on Monday.</p>,\n",
       " <p class=\"story-body-text story-content\" data-para-count=\"85\" data-total-count=\"2190\">The Russian government did not respond to a message over the weekend seeking comment.<br/></p>,\n",
       " <p class=\"story-body-text story-content\" data-para-count=\"333\" data-total-count=\"2523\">Separately, The New York Times and other news outlets reported last week that <a href=\"https://www.nytimes.com/2017/02/14/us/politics/russia-intelligence-communications-trump.html\">Trump campaign advise</a><a href=\"https://www.nytimes.com/2017/02/14/us/politics/russia-intelligence-communications-trump.html\">rs and other associates of Mr. Trump’s had repeated contacts</a> last year with Russian intelligence officials. Those reports, citing anonymous current and former American government officials, were vigorously denied by the White House.</p>,\n",
       " <p class=\"story-body-text story-content\" data-para-count=\"91\" data-total-count=\"2614\">On Thursday, Mr. Trump made clear his annoyance when questioned about contacts with Russia.</p>,\n",
       " <p class=\"story-body-text story-content\" data-para-count=\"153\" data-total-count=\"2767\">“How many times do I have to answer this question? Russia is a ruse. I have nothing to do with Russia,” he said during a White House news conference.</p>,\n",
       " <p class=\"story-body-text story-content\" data-para-count=\"275\" data-total-count=\"3042\" id=\"story-continues-2\">The president also lashed out at “illegal” leaks for bringing down Mr. Flynn, who the White House has acknowledged had multiple conversations after the election — in late December — with Mr. Kislyak about <a href=\"https://www.nytimes.com/2016/12/29/us/politics/russia-election-hacking-sanctions.html\">sanctions that were being imposed by the Obama administration</a>.</p>,\n",
       " <p class=\"story-body-text story-content\" data-para-count=\"360\" data-total-count=\"3402\">Under ordinary circumstances, few in Washington would blink at the statements by Mr. Ryabkov or Mr. Kislyak. It is common for foreign governments to reach out to American presidential candidates, and many foreign diplomats believe it is part of their job to get to know people who may soon be crucial to maintaining alliances or repairing broken relationships.</p>,\n",
       " <p class=\"story-body-text story-content\" data-para-count=\"289\" data-total-count=\"3691\">“They want to better understand policy views of a particular candidate so they can perhaps make their case for certain policies,” said Derek Chollet, who was part of the Obama transition in 2008 and then served in senior roles at the State Department, the White House and the Pentagon.</p>,\n",
       " <p class=\"story-body-text story-content\" data-para-count=\"154\" data-total-count=\"3845\">Mostly, though, “it’s about relationship building — they want to get to know the people who are possibly going to be in important jobs,” he added.</p>,\n",
       " <p class=\"story-body-text story-content\" data-para-count=\"291\" data-total-count=\"4136\">The closest contacts between campaigns and foreign officials tend to be with allies. The Australian Embassy said it was in contact with the Trump and Clinton campaigns, and British officials said they had extensive contacts with the president’s top aides in the months before the election.</p>,\n",
       " <p class=\"story-body-text story-content\" data-para-count=\"360\" data-total-count=\"4496\">Contacts with potential adversaries, such as Russia, are also not unusual, but they are more complicated. Michael McFaul, who advised the Obama campaign in 2008 and later served as United States ambassador to Russia, said that he traveled to Moscow during the presidential race that year and that “everyone in Moscow knew that I was advising the campaign.”</p>,\n",
       " <p class=\"story-body-text story-content\" data-para-count=\"219\" data-total-count=\"4715\">The American Embassy even hosted a lunch for him with Russian officials. But “I was not there to discuss Obama policy but to better inform my views on Russian attitudes about U.S.-Russia relations,” Mr. McFaul said.</p>,\n",
       " <p class=\"story-body-text story-content\" data-para-count=\"227\" data-total-count=\"4942\">He said that during the transition, Russian officials wanted to talk about policy issues, but the Obama administration officials refused — in keeping with the tradition that there should be only “one president at a time.”</p>]"
      ]
     },
     "execution_count": 115,
     "metadata": {},
     "output_type": "execute_result"
    }
   ],
   "source": [
    "soup.find('article', {'id' : 'story'}).find_all('p', {'class' : 'story-body-text story-content'})"
   ]
  },
  {
   "cell_type": "code",
   "execution_count": null,
   "metadata": {
    "collapsed": true
   },
   "outputs": [],
   "source": []
  },
  {
   "cell_type": "code",
   "execution_count": null,
   "metadata": {
    "collapsed": true
   },
   "outputs": [],
   "source": []
  },
  {
   "cell_type": "code",
   "execution_count": 79,
   "metadata": {
    "collapsed": false
   },
   "outputs": [],
   "source": [
    "def find(paragraph, ch='\"'):\n",
    "    idxs =  [i for i, ltr in enumerate(paragraph) if ltr == ch]\n",
    "    start, stop = idxs[0::2], idxs[1::2]\n",
    "    quotes = [paragraph[idx: stop[i] + 1] for i, idx in enumerate(start)]\n",
    "    if len(quotes) > 0:\n",
    "        return quotes"
   ]
  },
  {
   "cell_type": "code",
   "execution_count": null,
   "metadata": {
    "collapsed": false
   },
   "outputs": [],
   "source": []
  },
  {
   "cell_type": "code",
   "execution_count": null,
   "metadata": {
    "collapsed": false
   },
   "outputs": [],
   "source": []
  },
  {
   "cell_type": "code",
   "execution_count": null,
   "metadata": {
    "collapsed": true
   },
   "outputs": [],
   "source": []
  }
 ],
 "metadata": {
  "kernelspec": {
   "display_name": "Python 3",
   "language": "python",
   "name": "python3"
  },
  "language_info": {
   "codemirror_mode": {
    "name": "ipython",
    "version": 3
   },
   "file_extension": ".py",
   "mimetype": "text/x-python",
   "name": "python",
   "nbconvert_exporter": "python",
   "pygments_lexer": "ipython3",
   "version": "3.5.2"
  }
 },
 "nbformat": 4,
 "nbformat_minor": 1
}
